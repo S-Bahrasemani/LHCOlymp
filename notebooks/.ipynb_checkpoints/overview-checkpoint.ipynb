{
 "cells": [
  {
   "cell_type": "markdown",
   "metadata": {},
   "source": [
    "### LHCOlympics2020\n",
    "\n",
    "#### Source:\n",
    "https://indico.cern.ch/event/809820/page/19002-lhcolympics2020\n",
    "\n",
    "#### Git Repo for personal devs\n",
    "https://github.com/ezeeEric/LHCOlymp\n",
    "\n",
    "#### Files: \n",
    "* Contain List of all hadrons (up to 700)\n",
    "* file structure: (pt,eta,phi)_hadron0, (pt,eta,phi)_hadron1, ...\n",
    "##### Competition DS:\n",
    "https://zenodo.org/record/3547722#.XdRG4r97naY\n",
    "* Monte Carlo Simulation Background (no signal) - 1M events\n",
    "* Data (3 black boxes infused with signal(s)) - first box 1M-1 events\n",
    "* *Data description through simulation not ideal!*\n",
    "##### Event selection:\n",
    "* at least one anti-kT R = 1.0 jet (=fatjet)\n",
    "* pseudorapidity |η| < 2.5 \n",
    "* transverse momentum pT > 1.2 TeV\n",
    "\n",
    "##### Jet formation\n",
    "* Fastjet library providing objects (through pyjet)\n",
    "* antikt-algorithm used in initial setup\n",
    "http://www.fastjet.fr/repo/doxygen-3.0.6/PseudoJet_8hh_source.html\n",
    "\n",
    "##### for setup purposes only: benchmark dataset \n",
    "https://zenodo.org/record/2629073#.XeG1aTJKjOR\n",
    "* 1M QCD dijet events and 100k W'->XY events, with X->jj and Y->jj\n",
    "* W', X, and Y masses are 3.5 TeV, 500 GeV and 100 GeV \n",
    "##### Event selection:\n",
    "* single fat-jet (R = 1.0) trigger with pT > 1.3 TeV\n",
    "* sig/bg truth info included, otherwise same\n",
    "\n",
    "#### Goal:\n",
    "1. p-value associated with the dataset having no new particles (null hypothesis).\n",
    "2. complete a description of the new physics as possible. (masses, decay modes, uncertainties).\n",
    "3. How many signal events (+uncertainty) are in the dataset (before any selection criteria).\n",
    "\n",
    "#### Submission:\n",
    "See source. Deadline *Sunday, January 12, 2020* \n",
    "\n",
    "#### Unsorted Ressources\n",
    "Searches with boosted objects at ATLAS and CMS\n",
    "http://moriond.in2p3.fr/QCD/2018/TuesdayAfternoon/Moran.pdf\n"
   ]
  },
  {
   "cell_type": "markdown",
   "metadata": {},
   "source": [
    "### Ideas/Remarks\n",
    "\n",
    "#### General\n",
    "* approach like analysis - categorisation? \n",
    "* and/or like black box ML with specific features?\n",
    "* Specific data preparations needed?\n",
    "* statistical evaluation\n",
    "* (time)-efficicent run on all data\n",
    "* interface to cedar\n",
    "\n",
    "#### ML method\n",
    "* how to choose?\n",
    "* how to train without signal?\n",
    "\n",
    "#### Possibly Important Features\n",
    "* check similar jet based analyses\n",
    "##### Jet Properties\n",
    "* nr of hadrons in all jet, lead jet\n",
    "* hadron content - pt sum, harder hadrons?\n",
    "* jet multiplicity\n",
    "* dijet mass, detajj, dphijj, drjj\n",
    "* sum of jet pts in event\n",
    "* jet mass of large R\n",
    "* jet dR vs jet mass?\n",
    "* substructure quantities? N-subjettiness, Ratio of Energy Correlation functions D2\n",
    "* invariant mass highest pt objects\n",
    "* ..."
   ]
  },
  {
   "cell_type": "code",
   "execution_count": 1,
   "metadata": {},
   "outputs": [],
   "source": [
    "import matplotlib.pyplot as plt\n",
    "import numpy as np\n",
    "import pandas\n",
    "import pickle\n",
    "\n",
    "from tools import timelogDict,chronomat\n",
    "from tools import calcMjj,nHadPerJet\n",
    "from dataPreparation import createJetCollections"
   ]
  },
  {
   "cell_type": "markdown",
   "metadata": {},
   "source": [
    "##### Benchmark Dataset"
   ]
  },
  {
   "cell_type": "code",
   "execution_count": 3,
   "metadata": {},
   "outputs": [
    {
     "name": "stdout",
     "output_type": "stream",
     "text": [
      "background 0\n",
      "background 100\n",
      "background 200\n",
      "background 300\n",
      "background 400\n",
      "background 500\n",
      "background 600\n",
      "background 700\n",
      "background 800\n",
      "background 900\n",
      "signal 0\n",
      "signal 100\n",
      "signal 200\n",
      "signal 300\n",
      "signal 400\n",
      "signal 500\n",
      "signal 600\n",
      "signal 700\n",
      "signal 800\n",
      "signal 900\n"
     ]
    }
   ],
   "source": [
    "nEvts=1000\n",
    "fn =  '../data/events_anomalydetection.h5'\n",
    "\n",
    "# Option 2: Only load the first nEvts events for testing\n",
    "df_test = pandas.read_hdf(fn, stop=nEvts)\n",
    "f=df_test\n",
    "events_combined = f.T\n",
    "np.shape(events_combined)\n",
    "\n",
    "allJets,leadJet=createJetCollections(events_combined,nEvts, truthBit=True)"
   ]
  },
  {
   "cell_type": "code",
   "execution_count": 8,
   "metadata": {},
   "outputs": [
    {
     "data": {
      "image/png": "[encoded data removed]",
      "text/plain": [
       "<Figure size 432x288 with 1 Axes>"
      ]
     },
     "metadata": {
      "needs_background": "light"
     },
     "output_type": "display_data"
    }
   ],
   "source": [
    "fig = plt.figure()\n",
    "ax = fig.add_subplot(1, 1, 1)\n",
    "n,b,p = plt.hist(leadJet['background'], bins=50, facecolor='r', alpha=0.2,label='background')\n",
    "plt.hist(leadJet['signal'], bins=b, facecolor='b', alpha=0.2,label='signal')\n",
    "plt.xlabel(r'Leading jet $p_{T}$ [GeV]')\n",
    "plt.ylabel('Number of events')\n",
    "plt.legend(loc='upper right')\n",
    "plt.show()"
   ]
  },
  {
   "cell_type": "code",
   "execution_count": 7,
   "metadata": {},
   "outputs": [
    {
     "data": {
      "image/png": "[encoded data removed]",
      "text/plain": [
       "<Figure size 432x288 with 2 Axes>"
      ]
     },
     "metadata": {
      "needs_background": "light"
     },
     "output_type": "display_data"
    }
   ],
   "source": [
    "mjj=calcMjj(allJets)\n",
    "nH=nHadPerJet(allJets)\n",
    "fig = plt.figure()\n",
    "ax = fig.add_subplot(2, 3, 1)\n",
    "n,b,p = ax.hist(mjj['background'], bins=50, facecolor='r', alpha=0.2,label='background')\n",
    "ax.hist(mjj['signal'], bins=b, facecolor='b', alpha=0.2,label='signal')\n",
    "ax2 = fig.add_subplot(2, 3, 2)\n",
    "n,b,p = ax2.hist(nH['background'], bins=10, facecolor='r', alpha=0.2,label='background')\n",
    "ax2.hist(nH['signal'], bins=b, facecolor='b', alpha=0.2,label='signal')\n",
    "# ax3 = fig.add_subplot(2, 3, 3)\n",
    "# n,b,p = ax.hist(mjj['background'], bins=50, facecolor='r', alpha=0.2,label='background')\n",
    "# ax2.hist(mjj['signal'], bins=b, facecolor='b', alpha=0.2,label='signal')\n",
    "# ax2 = fig.add_subplot(2, 3, 4)\n",
    "# ax2.hist(mjj['signal'], bins=b, facecolor='b', alpha=0.2,label='signal')\n",
    "plt.xlabel(r'$m_{JJ}$ [GeV]')\n",
    "plt.ylabel('Number of events')\n",
    "plt.legend(loc='upper right')\n",
    "plt.show()"
   ]
  },
  {
   "cell_type": "code",
   "execution_count": null,
   "metadata": {},
   "outputs": [],
   "source": []
  },
  {
   "cell_type": "markdown",
   "metadata": {},
   "source": [
    "##### Competition DS"
   ]
  },
  {
   "cell_type": "code",
   "execution_count": 3,
   "metadata": {},
   "outputs": [
    {
     "name": "stdout",
     "output_type": "stream",
     "text": [
      "(10000, 2100)\n"
     ]
    }
   ],
   "source": [
    "nEvts=10000\n",
    "fn_bg =  '../data/events_LHCO2020_backgroundMC_Pythia.h5'\n",
    "\n",
    "# Option 2: Only load the first nEvts events for testing\n",
    "df_bg = pandas.read_hdf(fn_bg, stop=nEvts)\n",
    "print(df_bg.shape)"
   ]
  },
  {
   "cell_type": "code",
   "execution_count": 4,
   "metadata": {},
   "outputs": [
    {
     "name": "stdout",
     "output_type": "stream",
     "text": [
      "background 0\n",
      "background 1000\n",
      "background 2000\n",
      "background 3000\n",
      "background 4000\n",
      "background 5000\n",
      "background 6000\n",
      "background 7000\n",
      "background 8000\n",
      "background 9000\n"
     ]
    }
   ],
   "source": [
    "bgEvts_comb = df_bg.T\n",
    "\n",
    "allJets_bg,leadJet_bg=createJetCollections(bgEvts_comb,nEvts, truthBit=False, dataLabel=\"background\")"
   ]
  },
  {
   "cell_type": "code",
   "execution_count": 12,
   "metadata": {},
   "outputs": [
    {
     "data": {
      "image/png": "[encoded data removed]",
      "text/plain": [
       "<Figure size 432x288 with 1 Axes>"
      ]
     },
     "metadata": {
      "needs_background": "light"
     },
     "output_type": "display_data"
    }
   ],
   "source": [
    "fig = plt.figure()\n",
    "ax = fig.add_subplot(1, 1, 1)\n",
    "n,b,p = plt.hist(leadJet_bg['background'], bins=50, facecolor='r', alpha=0.2,label='background')\n",
    "plt.xlabel(r'Leading jet $p_{T}$ [GeV]')\n",
    "plt.ylabel('Number of events')\n",
    "plt.legend(loc='upper right')\n",
    "plt.show()"
   ]
  },
  {
   "cell_type": "code",
   "execution_count": null,
   "metadata": {},
   "outputs": [],
   "source": []
  },
  {
   "cell_type": "code",
   "execution_count": 6,
   "metadata": {},
   "outputs": [
    {
     "name": "stdout",
     "output_type": "stream",
     "text": [
      "(10000, 2100)\n"
     ]
    }
   ],
   "source": [
    "nEvts=10000\n",
    "fn_data =  '../data/events_LHCO2020_BlackBox1.h5'\n",
    "\n",
    "# Option 2: Only load the first nEvts events for testing\n",
    "df_data = pandas.read_hdf(fn_data, stop=nEvts)\n",
    "print(df_data.shape)"
   ]
  },
  {
   "cell_type": "code",
   "execution_count": 7,
   "metadata": {},
   "outputs": [
    {
     "name": "stdout",
     "output_type": "stream",
     "text": [
      "data 0\n",
      "data 1000\n",
      "data 2000\n",
      "data 3000\n",
      "data 4000\n",
      "data 5000\n",
      "data 6000\n",
      "data 7000\n",
      "data 8000\n",
      "data 9000\n"
     ]
    }
   ],
   "source": [
    "dataEvts_comb = df_data.T\n",
    "\n",
    "allJets_data,leadJet_data=createJetCollections(dataEvts_comb,nEvts, truthBit=False, dataLabel=\"data\")"
   ]
  },
  {
   "cell_type": "code",
   "execution_count": 17,
   "metadata": {},
   "outputs": [
    {
     "data": {
      "image/png": "[encoded data removed]",
      "text/plain": [
       "<Figure size 432x288 with 1 Axes>"
      ]
     },
     "metadata": {
      "needs_background": "light"
     },
     "output_type": "display_data"
    }
   ],
   "source": [
    "fig = plt.figure()\n",
    "ax = fig.add_subplot(1, 1, 1)\n",
    "n,b,p = plt.hist(leadJet_data['data'], bins=50, facecolor='g', alpha=0.2,label='data',density=1.)\n",
    "plt.hist(leadJet_bg['background'], bins=50, facecolor='r', alpha=0.2,label='background',density=1.)\n",
    "plt.xlabel(r'Leading jet $p_{T}$ [GeV]')\n",
    "plt.ylabel('Number of events')\n",
    "plt.legend(loc='upper right')\n",
    "plt.show()"
   ]
  },
  {
   "cell_type": "code",
   "execution_count": null,
   "metadata": {},
   "outputs": [],
   "source": []
  }
 ],
 "metadata": {
  "kernelspec": {
   "display_name": "lhcolymp",
   "language": "python",
   "name": "lhcolymp"
  },
  "language_info": {
   "codemirror_mode": {
    "name": "ipython",
    "version": 3
   },
   "file_extension": ".py",
   "mimetype": "text/x-python",
   "name": "python",
   "nbconvert_exporter": "python",
   "pygments_lexer": "ipython3",
   "version": "3.7.3"
  }
 },
 "nbformat": 4,
 "nbformat_minor": 2
}

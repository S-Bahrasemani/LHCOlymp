{
 "cells": [
  {
   "cell_type": "markdown",
   "metadata": {},
   "source": [
    "## Example: Running DNN on DataFrame"
   ]
  },
  {
   "cell_type": "code",
   "execution_count": 1,
   "metadata": {},
   "outputs": [
    {
     "name": "stderr",
     "output_type": "stream",
     "text": [
      "Using TensorFlow backend.\n"
     ]
    }
   ],
   "source": [
    "import pandas as pd\n",
    "import numpy as np\n",
    "\n",
    "from keras.models import Sequential\n",
    "from keras.layers import Dense,Dropout\n",
    "from keras.wrappers.scikit_learn import KerasClassifier\n",
    "from sklearn.model_selection import cross_val_score\n",
    "from sklearn.preprocessing import LabelEncoder\n",
    "from sklearn.model_selection import StratifiedKFold\n",
    "from sklearn.preprocessing import StandardScaler\n",
    "from sklearn.pipeline import Pipeline"
   ]
  },
  {
   "cell_type": "markdown",
   "metadata": {},
   "source": [
    "Minimal Example dataframe.\n",
    "- 20k events from anomalyDetection dataset.\n",
    "- Has truth information and Signal+Background\n",
    "- Intended for testing setup and establishing workflow."
   ]
  },
  {
   "cell_type": "code",
   "execution_count": 5,
   "metadata": {},
   "outputs": [],
   "source": [
    "## load dataset\n",
    "in_df = pd.read_pickle(\"../dataExamples/testDF.pkl\")\n",
    "nevt=len(in_df)"
   ]
  },
  {
   "cell_type": "code",
   "execution_count": null,
   "metadata": {},
   "outputs": [],
   "source": [
    "#inspect\n",
    "print(in_df)"
   ]
  },
  {
   "cell_type": "markdown",
   "metadata": {},
   "source": [
    "Randomly chosen variables for testing: \n",
    "- invariant mass of the 2 leading-pt jets\n",
    "- pseudorapidity gap between 2 leading jets\n",
    "- scalar sum of transverse momenta leading jets"
   ]
  },
  {
   "cell_type": "code",
   "execution_count": 8,
   "metadata": {},
   "outputs": [],
   "source": [
    "var1 = 'mjj'\n",
    "var2 = 'dEtajj'\n",
    "var3 = 'sumPtjj'\n",
    "# split into input (X) and output (Y) variables\n",
    "X = in_df.loc[:nevt-1,[var1, var2, var3]].values\n",
    "Y = in_df['isSignal'].values[:nevt]"
   ]
  },
  {
   "cell_type": "markdown",
   "metadata": {},
   "source": [
    "Create simple NN (following some default example)\n",
    "- 2 layers\n",
    "- 32 nodes each"
   ]
  },
  {
   "cell_type": "code",
   "execution_count": 10,
   "metadata": {},
   "outputs": [],
   "source": [
    "def create_model():\n",
    "  # create model\n",
    "  model = Sequential()\n",
    "  model.add(Dense(32, input_dim=3, activation='relu'))\n",
    "  model.add(Dropout(0.2))\n",
    "  model.add(Dense(32, input_dim=3, activation='relu'))\n",
    "  model.add(Dropout(0.2))\n",
    "  model.add(Dense(1, activation='sigmoid'))\n",
    "  # Compile model\n",
    "  model.compile(loss='binary_crossentropy', optimizer='adam', metrics=['accuracy'])\n",
    "  return model"
   ]
  },
  {
   "cell_type": "code",
   "execution_count": 11,
   "metadata": {},
   "outputs": [
    {
     "name": "stdout",
     "output_type": "stream",
     "text": [
      "Training on 20000 events\n",
      "Efficiency: 0.91 (0.00)\n"
     ]
    }
   ],
   "source": [
    "estimators = []\n",
    "estimators.append(('standardize', StandardScaler()))\n",
    "estimators.append(('mlp', KerasClassifier(build_fn=create_model, epochs=10, batch_size=2048, verbose=0)))\n",
    "\n",
    "pipeline = Pipeline(estimators)\n",
    "kfold = StratifiedKFold(n_splits=2, shuffle=True)\n",
    "results = cross_val_score(pipeline, X, Y, cv=kfold)\n",
    "#et voila!\n",
    "print(\"Training on {0} events\".format(nevt))\n",
    "print(\"Efficiency: %.2f (%.2f)\" % (results.mean(), results.std()))"
   ]
  },
  {
   "cell_type": "code",
   "execution_count": null,
   "metadata": {},
   "outputs": [],
   "source": []
  }
 ],
 "metadata": {
  "kernelspec": {
   "display_name": "lhcolymp",
   "language": "python",
   "name": "lhcolymp"
  },
  "language_info": {
   "codemirror_mode": {
    "name": "ipython",
    "version": 3
   },
   "file_extension": ".py",
   "mimetype": "text/x-python",
   "name": "python",
   "nbconvert_exporter": "python",
   "pygments_lexer": "ipython3",
   "version": "3.7.3"
  }
 },
 "nbformat": 4,
 "nbformat_minor": 2
}

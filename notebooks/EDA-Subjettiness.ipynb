{
 "cells": [
  {
   "cell_type": "markdown",
   "metadata": {},
   "source": [
    "## Black-box exploratory data analysis"
   ]
  },
  {
   "cell_type": "code",
   "execution_count": 1,
   "metadata": {},
   "outputs": [],
   "source": [
    "import pandas as pd\n",
    "import numpy as np\n",
    "import torch\n",
    "import matplotlib.pyplot as plt"
   ]
  },
  {
   "cell_type": "code",
   "execution_count": 2,
   "metadata": {},
   "outputs": [],
   "source": [
    "## load dataset\n",
    "background_df = pd.read_pickle(\"../dataFrames/df_events_LHCO2020_backgroundMC_Pythia.pkl\")\n",
    "blackbox_df = pd.read_pickle(\"../dataFrames/df_events_LHCO2020_BlackBox1.pkl\")\n",
    "\n",
    "background_data_array = background_df.to_numpy()[:,3:].astype(float)\n",
    "blackbox_data_array = blackbox_df.to_numpy()[:,3:].astype(float)"
   ]
  },
  {
   "cell_type": "code",
   "execution_count": 11,
   "metadata": {},
   "outputs": [
    {
     "data": {
      "text/html": [
       "<div>\n",
       "<style scoped>\n",
       "    .dataframe tbody tr th:only-of-type {\n",
       "        vertical-align: middle;\n",
       "    }\n",
       "\n",
       "    .dataframe tbody tr th {\n",
       "        vertical-align: top;\n",
       "    }\n",
       "\n",
       "    .dataframe thead th {\n",
       "        text-align: right;\n",
       "    }\n",
       "</style>\n",
       "<table border=\"1\" class=\"dataframe\">\n",
       "  <thead>\n",
       "    <tr style=\"text-align: right;\">\n",
       "      <th></th>\n",
       "      <th>evtIdx</th>\n",
       "      <th>isSignal</th>\n",
       "      <th>jet_0_tau_1</th>\n",
       "      <th>jet_0_tau_2</th>\n",
       "      <th>jet_0_tau_3</th>\n",
       "      <th>jet_0_tau_r21</th>\n",
       "      <th>jet_0_tau_r32</th>\n",
       "      <th>jet_1_tau_1</th>\n",
       "      <th>jet_1_tau_2</th>\n",
       "      <th>jet_1_tau_3</th>\n",
       "      <th>...</th>\n",
       "      <th>jet_1_const_0_phi</th>\n",
       "      <th>jet_1_const_0_pt</th>\n",
       "      <th>jet_1_const_1_constidx</th>\n",
       "      <th>jet_1_const_1_eta</th>\n",
       "      <th>jet_1_const_1_phi</th>\n",
       "      <th>jet_1_const_1_pt</th>\n",
       "      <th>jet_1_const_2_constidx</th>\n",
       "      <th>jet_1_const_2_eta</th>\n",
       "      <th>jet_1_const_2_phi</th>\n",
       "      <th>jet_1_const_2_pt</th>\n",
       "    </tr>\n",
       "  </thead>\n",
       "  <tbody>\n",
       "    <tr>\n",
       "      <th>count</th>\n",
       "      <td>999999.000000</td>\n",
       "      <td>999999.0</td>\n",
       "      <td>999999.000000</td>\n",
       "      <td>999999.000000</td>\n",
       "      <td>999999.000000</td>\n",
       "      <td>999999.000000</td>\n",
       "      <td>999999.000000</td>\n",
       "      <td>999999.000000</td>\n",
       "      <td>999999.000000</td>\n",
       "      <td>999999.000000</td>\n",
       "      <td>...</td>\n",
       "      <td>999999.000000</td>\n",
       "      <td>999999.000000</td>\n",
       "      <td>999999.000000</td>\n",
       "      <td>999999.000000</td>\n",
       "      <td>999999.000000</td>\n",
       "      <td>999999.000000</td>\n",
       "      <td>999999.000000</td>\n",
       "      <td>999999.000000</td>\n",
       "      <td>999999.000000</td>\n",
       "      <td>999999.000000</td>\n",
       "    </tr>\n",
       "    <tr>\n",
       "      <th>mean</th>\n",
       "      <td>499999.000000</td>\n",
       "      <td>0.0</td>\n",
       "      <td>0.011837</td>\n",
       "      <td>0.008694</td>\n",
       "      <td>0.008013</td>\n",
       "      <td>2.387716</td>\n",
       "      <td>2.527833</td>\n",
       "      <td>0.011759</td>\n",
       "      <td>0.009144</td>\n",
       "      <td>0.008713</td>\n",
       "      <td>...</td>\n",
       "      <td>-0.002971</td>\n",
       "      <td>332.281709</td>\n",
       "      <td>46.687106</td>\n",
       "      <td>-0.000423</td>\n",
       "      <td>-0.003114</td>\n",
       "      <td>167.615580</td>\n",
       "      <td>45.731883</td>\n",
       "      <td>-0.000335</td>\n",
       "      <td>-0.003255</td>\n",
       "      <td>109.212411</td>\n",
       "    </tr>\n",
       "    <tr>\n",
       "      <th>std</th>\n",
       "      <td>288674.990257</td>\n",
       "      <td>0.0</td>\n",
       "      <td>0.025226</td>\n",
       "      <td>0.020865</td>\n",
       "      <td>0.017631</td>\n",
       "      <td>17.299108</td>\n",
       "      <td>21.467150</td>\n",
       "      <td>0.032806</td>\n",
       "      <td>0.023403</td>\n",
       "      <td>0.022639</td>\n",
       "      <td>...</td>\n",
       "      <td>1.812983</td>\n",
       "      <td>207.338369</td>\n",
       "      <td>26.781845</td>\n",
       "      <td>0.803519</td>\n",
       "      <td>1.812985</td>\n",
       "      <td>87.005349</td>\n",
       "      <td>26.429214</td>\n",
       "      <td>0.802935</td>\n",
       "      <td>1.812806</td>\n",
       "      <td>50.708466</td>\n",
       "    </tr>\n",
       "    <tr>\n",
       "      <th>min</th>\n",
       "      <td>0.000000</td>\n",
       "      <td>0.0</td>\n",
       "      <td>0.000000</td>\n",
       "      <td>0.000000</td>\n",
       "      <td>0.000000</td>\n",
       "      <td>0.000000</td>\n",
       "      <td>0.000000</td>\n",
       "      <td>0.000000</td>\n",
       "      <td>0.000000</td>\n",
       "      <td>0.000000</td>\n",
       "      <td>...</td>\n",
       "      <td>-3.141580</td>\n",
       "      <td>17.873350</td>\n",
       "      <td>0.000000</td>\n",
       "      <td>-2.892982</td>\n",
       "      <td>-3.141578</td>\n",
       "      <td>0.000000</td>\n",
       "      <td>0.000000</td>\n",
       "      <td>-2.827789</td>\n",
       "      <td>-3.141562</td>\n",
       "      <td>0.000000</td>\n",
       "    </tr>\n",
       "    <tr>\n",
       "      <th>25%</th>\n",
       "      <td>249999.500000</td>\n",
       "      <td>0.0</td>\n",
       "      <td>0.003123</td>\n",
       "      <td>0.002609</td>\n",
       "      <td>0.002590</td>\n",
       "      <td>0.300470</td>\n",
       "      <td>0.455325</td>\n",
       "      <td>0.003222</td>\n",
       "      <td>0.002841</td>\n",
       "      <td>0.002877</td>\n",
       "      <td>...</td>\n",
       "      <td>-1.574334</td>\n",
       "      <td>179.414330</td>\n",
       "      <td>26.000000</td>\n",
       "      <td>-0.591396</td>\n",
       "      <td>-1.574274</td>\n",
       "      <td>104.875805</td>\n",
       "      <td>25.000000</td>\n",
       "      <td>-0.589789</td>\n",
       "      <td>-1.574071</td>\n",
       "      <td>73.003983</td>\n",
       "    </tr>\n",
       "    <tr>\n",
       "      <th>50%</th>\n",
       "      <td>499999.000000</td>\n",
       "      <td>0.0</td>\n",
       "      <td>0.006598</td>\n",
       "      <td>0.004997</td>\n",
       "      <td>0.004834</td>\n",
       "      <td>0.869923</td>\n",
       "      <td>1.000000</td>\n",
       "      <td>0.006501</td>\n",
       "      <td>0.005393</td>\n",
       "      <td>0.005355</td>\n",
       "      <td>...</td>\n",
       "      <td>-0.006226</td>\n",
       "      <td>280.998688</td>\n",
       "      <td>42.000000</td>\n",
       "      <td>-0.000182</td>\n",
       "      <td>-0.006144</td>\n",
       "      <td>149.044846</td>\n",
       "      <td>41.000000</td>\n",
       "      <td>-0.000014</td>\n",
       "      <td>-0.006752</td>\n",
       "      <td>100.091064</td>\n",
       "    </tr>\n",
       "    <tr>\n",
       "      <th>75%</th>\n",
       "      <td>749998.500000</td>\n",
       "      <td>0.0</td>\n",
       "      <td>0.014387</td>\n",
       "      <td>0.009656</td>\n",
       "      <td>0.009000</td>\n",
       "      <td>1.809820</td>\n",
       "      <td>2.012533</td>\n",
       "      <td>0.013425</td>\n",
       "      <td>0.010150</td>\n",
       "      <td>0.009839</td>\n",
       "      <td>...</td>\n",
       "      <td>1.566095</td>\n",
       "      <td>432.623993</td>\n",
       "      <td>62.000000</td>\n",
       "      <td>0.589738</td>\n",
       "      <td>1.565338</td>\n",
       "      <td>210.834221</td>\n",
       "      <td>61.000000</td>\n",
       "      <td>0.589235</td>\n",
       "      <td>1.565235</td>\n",
       "      <td>135.757576</td>\n",
       "    </tr>\n",
       "    <tr>\n",
       "      <th>max</th>\n",
       "      <td>999998.000000</td>\n",
       "      <td>0.0</td>\n",
       "      <td>5.960637</td>\n",
       "      <td>5.960637</td>\n",
       "      <td>5.537206</td>\n",
       "      <td>7330.246573</td>\n",
       "      <td>9752.717803</td>\n",
       "      <td>6.049531</td>\n",
       "      <td>6.144328</td>\n",
       "      <td>5.536451</td>\n",
       "      <td>...</td>\n",
       "      <td>3.141584</td>\n",
       "      <td>3138.889893</td>\n",
       "      <td>262.000000</td>\n",
       "      <td>2.862678</td>\n",
       "      <td>3.141586</td>\n",
       "      <td>1418.920166</td>\n",
       "      <td>239.000000</td>\n",
       "      <td>3.075717</td>\n",
       "      <td>3.141582</td>\n",
       "      <td>803.247253</td>\n",
       "    </tr>\n",
       "  </tbody>\n",
       "</table>\n",
       "<p>8 rows × 68 columns</p>\n",
       "</div>"
      ],
      "text/plain": [
       "              evtIdx  isSignal    jet_0_tau_1    jet_0_tau_2    jet_0_tau_3  \\\n",
       "count  999999.000000  999999.0  999999.000000  999999.000000  999999.000000   \n",
       "mean   499999.000000       0.0       0.011837       0.008694       0.008013   \n",
       "std    288674.990257       0.0       0.025226       0.020865       0.017631   \n",
       "min         0.000000       0.0       0.000000       0.000000       0.000000   \n",
       "25%    249999.500000       0.0       0.003123       0.002609       0.002590   \n",
       "50%    499999.000000       0.0       0.006598       0.004997       0.004834   \n",
       "75%    749998.500000       0.0       0.014387       0.009656       0.009000   \n",
       "max    999998.000000       0.0       5.960637       5.960637       5.537206   \n",
       "\n",
       "       jet_0_tau_r21  jet_0_tau_r32    jet_1_tau_1    jet_1_tau_2  \\\n",
       "count  999999.000000  999999.000000  999999.000000  999999.000000   \n",
       "mean        2.387716       2.527833       0.011759       0.009144   \n",
       "std        17.299108      21.467150       0.032806       0.023403   \n",
       "min         0.000000       0.000000       0.000000       0.000000   \n",
       "25%         0.300470       0.455325       0.003222       0.002841   \n",
       "50%         0.869923       1.000000       0.006501       0.005393   \n",
       "75%         1.809820       2.012533       0.013425       0.010150   \n",
       "max      7330.246573    9752.717803       6.049531       6.144328   \n",
       "\n",
       "         jet_1_tau_3  ...  jet_1_const_0_phi  jet_1_const_0_pt  \\\n",
       "count  999999.000000  ...      999999.000000     999999.000000   \n",
       "mean        0.008713  ...          -0.002971        332.281709   \n",
       "std         0.022639  ...           1.812983        207.338369   \n",
       "min         0.000000  ...          -3.141580         17.873350   \n",
       "25%         0.002877  ...          -1.574334        179.414330   \n",
       "50%         0.005355  ...          -0.006226        280.998688   \n",
       "75%         0.009839  ...           1.566095        432.623993   \n",
       "max         5.536451  ...           3.141584       3138.889893   \n",
       "\n",
       "       jet_1_const_1_constidx  jet_1_const_1_eta  jet_1_const_1_phi  \\\n",
       "count           999999.000000      999999.000000      999999.000000   \n",
       "mean                46.687106          -0.000423          -0.003114   \n",
       "std                 26.781845           0.803519           1.812985   \n",
       "min                  0.000000          -2.892982          -3.141578   \n",
       "25%                 26.000000          -0.591396          -1.574274   \n",
       "50%                 42.000000          -0.000182          -0.006144   \n",
       "75%                 62.000000           0.589738           1.565338   \n",
       "max                262.000000           2.862678           3.141586   \n",
       "\n",
       "       jet_1_const_1_pt  jet_1_const_2_constidx  jet_1_const_2_eta  \\\n",
       "count     999999.000000           999999.000000      999999.000000   \n",
       "mean         167.615580               45.731883          -0.000335   \n",
       "std           87.005349               26.429214           0.802935   \n",
       "min            0.000000                0.000000          -2.827789   \n",
       "25%          104.875805               25.000000          -0.589789   \n",
       "50%          149.044846               41.000000          -0.000014   \n",
       "75%          210.834221               61.000000           0.589235   \n",
       "max         1418.920166              239.000000           3.075717   \n",
       "\n",
       "       jet_1_const_2_phi  jet_1_const_2_pt  \n",
       "count      999999.000000     999999.000000  \n",
       "mean           -0.003255        109.212411  \n",
       "std             1.812806         50.708466  \n",
       "min            -3.141562          0.000000  \n",
       "25%            -1.574071         73.003983  \n",
       "50%            -0.006752        100.091064  \n",
       "75%             1.565235        135.757576  \n",
       "max             3.141582        803.247253  \n",
       "\n",
       "[8 rows x 68 columns]"
      ]
     },
     "execution_count": 11,
     "metadata": {},
     "output_type": "execute_result"
    }
   ],
   "source": [
    "background_df.describe()"
   ]
  },
  {
   "cell_type": "code",
   "execution_count": 36,
   "metadata": {},
   "outputs": [
    {
     "data": {
      "text/html": [
       "<div>\n",
       "<style scoped>\n",
       "    .dataframe tbody tr th:only-of-type {\n",
       "        vertical-align: middle;\n",
       "    }\n",
       "\n",
       "    .dataframe tbody tr th {\n",
       "        vertical-align: top;\n",
       "    }\n",
       "\n",
       "    .dataframe thead th {\n",
       "        text-align: right;\n",
       "    }\n",
       "</style>\n",
       "<table border=\"1\" class=\"dataframe\">\n",
       "  <thead>\n",
       "    <tr style=\"text-align: right;\">\n",
       "      <th></th>\n",
       "      <th>evtIdx</th>\n",
       "      <th>isSignal</th>\n",
       "      <th>jet_0_tau_1</th>\n",
       "      <th>jet_0_tau_2</th>\n",
       "      <th>jet_0_tau_3</th>\n",
       "      <th>jet_0_tau_r21</th>\n",
       "      <th>jet_0_tau_r32</th>\n",
       "      <th>jet_1_tau_1</th>\n",
       "      <th>jet_1_tau_2</th>\n",
       "      <th>jet_1_tau_3</th>\n",
       "      <th>...</th>\n",
       "      <th>jet_1_const_0_phi</th>\n",
       "      <th>jet_1_const_0_pt</th>\n",
       "      <th>jet_1_const_1_constidx</th>\n",
       "      <th>jet_1_const_1_eta</th>\n",
       "      <th>jet_1_const_1_phi</th>\n",
       "      <th>jet_1_const_1_pt</th>\n",
       "      <th>jet_1_const_2_constidx</th>\n",
       "      <th>jet_1_const_2_eta</th>\n",
       "      <th>jet_1_const_2_phi</th>\n",
       "      <th>jet_1_const_2_pt</th>\n",
       "    </tr>\n",
       "  </thead>\n",
       "  <tbody>\n",
       "    <tr>\n",
       "      <th>count</th>\n",
       "      <td>999999.000000</td>\n",
       "      <td>999999.0</td>\n",
       "      <td>999999.000000</td>\n",
       "      <td>999999.000000</td>\n",
       "      <td>999999.000000</td>\n",
       "      <td>999999.000000</td>\n",
       "      <td>999999.000000</td>\n",
       "      <td>999999.000000</td>\n",
       "      <td>999999.000000</td>\n",
       "      <td>999999.000000</td>\n",
       "      <td>...</td>\n",
       "      <td>999999.000000</td>\n",
       "      <td>999999.000000</td>\n",
       "      <td>999999.000000</td>\n",
       "      <td>999999.000000</td>\n",
       "      <td>999999.000000</td>\n",
       "      <td>999999.000000</td>\n",
       "      <td>999999.000000</td>\n",
       "      <td>999999.000000</td>\n",
       "      <td>999999.000000</td>\n",
       "      <td>999999.000000</td>\n",
       "    </tr>\n",
       "    <tr>\n",
       "      <th>mean</th>\n",
       "      <td>499999.000000</td>\n",
       "      <td>0.0</td>\n",
       "      <td>0.012130</td>\n",
       "      <td>0.008784</td>\n",
       "      <td>0.007986</td>\n",
       "      <td>2.496328</td>\n",
       "      <td>2.689362</td>\n",
       "      <td>0.012478</td>\n",
       "      <td>0.009563</td>\n",
       "      <td>0.009022</td>\n",
       "      <td>...</td>\n",
       "      <td>0.001732</td>\n",
       "      <td>352.584944</td>\n",
       "      <td>42.152459</td>\n",
       "      <td>-0.000095</td>\n",
       "      <td>0.002607</td>\n",
       "      <td>172.130874</td>\n",
       "      <td>41.236659</td>\n",
       "      <td>-0.000262</td>\n",
       "      <td>0.001974</td>\n",
       "      <td>109.761740</td>\n",
       "    </tr>\n",
       "    <tr>\n",
       "      <th>std</th>\n",
       "      <td>288674.990257</td>\n",
       "      <td>0.0</td>\n",
       "      <td>0.029040</td>\n",
       "      <td>0.022206</td>\n",
       "      <td>0.021723</td>\n",
       "      <td>44.426082</td>\n",
       "      <td>32.203297</td>\n",
       "      <td>0.036290</td>\n",
       "      <td>0.031878</td>\n",
       "      <td>0.027302</td>\n",
       "      <td>...</td>\n",
       "      <td>1.814509</td>\n",
       "      <td>221.459319</td>\n",
       "      <td>24.853474</td>\n",
       "      <td>0.801470</td>\n",
       "      <td>1.814134</td>\n",
       "      <td>91.833627</td>\n",
       "      <td>24.550595</td>\n",
       "      <td>0.800964</td>\n",
       "      <td>1.814223</td>\n",
       "      <td>52.990333</td>\n",
       "    </tr>\n",
       "    <tr>\n",
       "      <th>min</th>\n",
       "      <td>0.000000</td>\n",
       "      <td>0.0</td>\n",
       "      <td>0.000000</td>\n",
       "      <td>0.000000</td>\n",
       "      <td>0.000000</td>\n",
       "      <td>0.000000</td>\n",
       "      <td>0.000000</td>\n",
       "      <td>0.000000</td>\n",
       "      <td>0.000000</td>\n",
       "      <td>0.000000</td>\n",
       "      <td>...</td>\n",
       "      <td>-3.141593</td>\n",
       "      <td>20.321569</td>\n",
       "      <td>0.000000</td>\n",
       "      <td>-2.991166</td>\n",
       "      <td>-3.141584</td>\n",
       "      <td>0.000000</td>\n",
       "      <td>0.000000</td>\n",
       "      <td>-3.263251</td>\n",
       "      <td>-3.141589</td>\n",
       "      <td>0.000000</td>\n",
       "    </tr>\n",
       "    <tr>\n",
       "      <th>25%</th>\n",
       "      <td>249999.500000</td>\n",
       "      <td>0.0</td>\n",
       "      <td>0.002989</td>\n",
       "      <td>0.002441</td>\n",
       "      <td>0.002400</td>\n",
       "      <td>0.282549</td>\n",
       "      <td>0.431399</td>\n",
       "      <td>0.003192</td>\n",
       "      <td>0.002777</td>\n",
       "      <td>0.002788</td>\n",
       "      <td>...</td>\n",
       "      <td>-1.569745</td>\n",
       "      <td>190.983414</td>\n",
       "      <td>23.000000</td>\n",
       "      <td>-0.582413</td>\n",
       "      <td>-1.568188</td>\n",
       "      <td>107.076359</td>\n",
       "      <td>22.000000</td>\n",
       "      <td>-0.582171</td>\n",
       "      <td>-1.569305</td>\n",
       "      <td>72.538658</td>\n",
       "    </tr>\n",
       "    <tr>\n",
       "      <th>50%</th>\n",
       "      <td>499999.000000</td>\n",
       "      <td>0.0</td>\n",
       "      <td>0.006584</td>\n",
       "      <td>0.004836</td>\n",
       "      <td>0.004577</td>\n",
       "      <td>0.861612</td>\n",
       "      <td>1.000000</td>\n",
       "      <td>0.006614</td>\n",
       "      <td>0.005368</td>\n",
       "      <td>0.005293</td>\n",
       "      <td>...</td>\n",
       "      <td>0.001282</td>\n",
       "      <td>297.451355</td>\n",
       "      <td>37.000000</td>\n",
       "      <td>-0.000103</td>\n",
       "      <td>0.001433</td>\n",
       "      <td>151.967194</td>\n",
       "      <td>36.000000</td>\n",
       "      <td>0.000000</td>\n",
       "      <td>0.000000</td>\n",
       "      <td>100.143097</td>\n",
       "    </tr>\n",
       "    <tr>\n",
       "      <th>75%</th>\n",
       "      <td>749998.500000</td>\n",
       "      <td>0.0</td>\n",
       "      <td>0.014813</td>\n",
       "      <td>0.009656</td>\n",
       "      <td>0.008779</td>\n",
       "      <td>1.850778</td>\n",
       "      <td>2.032805</td>\n",
       "      <td>0.014085</td>\n",
       "      <td>0.010313</td>\n",
       "      <td>0.009893</td>\n",
       "      <td>...</td>\n",
       "      <td>1.573966</td>\n",
       "      <td>457.420349</td>\n",
       "      <td>56.000000</td>\n",
       "      <td>0.582099</td>\n",
       "      <td>1.574353</td>\n",
       "      <td>215.580826</td>\n",
       "      <td>55.000000</td>\n",
       "      <td>0.581346</td>\n",
       "      <td>1.574017</td>\n",
       "      <td>136.490982</td>\n",
       "    </tr>\n",
       "    <tr>\n",
       "      <th>max</th>\n",
       "      <td>999998.000000</td>\n",
       "      <td>0.0</td>\n",
       "      <td>5.993892</td>\n",
       "      <td>5.772088</td>\n",
       "      <td>5.919134</td>\n",
       "      <td>38616.197411</td>\n",
       "      <td>16100.068369</td>\n",
       "      <td>6.016278</td>\n",
       "      <td>6.058575</td>\n",
       "      <td>5.857625</td>\n",
       "      <td>...</td>\n",
       "      <td>3.141587</td>\n",
       "      <td>3051.232666</td>\n",
       "      <td>232.000000</td>\n",
       "      <td>2.924499</td>\n",
       "      <td>3.141577</td>\n",
       "      <td>1453.972778</td>\n",
       "      <td>252.000000</td>\n",
       "      <td>2.997483</td>\n",
       "      <td>3.141590</td>\n",
       "      <td>940.051208</td>\n",
       "    </tr>\n",
       "  </tbody>\n",
       "</table>\n",
       "<p>8 rows × 68 columns</p>\n",
       "</div>"
      ],
      "text/plain": [
       "              evtIdx  isSignal    jet_0_tau_1    jet_0_tau_2    jet_0_tau_3  \\\n",
       "count  999999.000000  999999.0  999999.000000  999999.000000  999999.000000   \n",
       "mean   499999.000000       0.0       0.012130       0.008784       0.007986   \n",
       "std    288674.990257       0.0       0.029040       0.022206       0.021723   \n",
       "min         0.000000       0.0       0.000000       0.000000       0.000000   \n",
       "25%    249999.500000       0.0       0.002989       0.002441       0.002400   \n",
       "50%    499999.000000       0.0       0.006584       0.004836       0.004577   \n",
       "75%    749998.500000       0.0       0.014813       0.009656       0.008779   \n",
       "max    999998.000000       0.0       5.993892       5.772088       5.919134   \n",
       "\n",
       "       jet_0_tau_r21  jet_0_tau_r32    jet_1_tau_1    jet_1_tau_2  \\\n",
       "count  999999.000000  999999.000000  999999.000000  999999.000000   \n",
       "mean        2.496328       2.689362       0.012478       0.009563   \n",
       "std        44.426082      32.203297       0.036290       0.031878   \n",
       "min         0.000000       0.000000       0.000000       0.000000   \n",
       "25%         0.282549       0.431399       0.003192       0.002777   \n",
       "50%         0.861612       1.000000       0.006614       0.005368   \n",
       "75%         1.850778       2.032805       0.014085       0.010313   \n",
       "max     38616.197411   16100.068369       6.016278       6.058575   \n",
       "\n",
       "         jet_1_tau_3  ...  jet_1_const_0_phi  jet_1_const_0_pt  \\\n",
       "count  999999.000000  ...      999999.000000     999999.000000   \n",
       "mean        0.009022  ...           0.001732        352.584944   \n",
       "std         0.027302  ...           1.814509        221.459319   \n",
       "min         0.000000  ...          -3.141593         20.321569   \n",
       "25%         0.002788  ...          -1.569745        190.983414   \n",
       "50%         0.005293  ...           0.001282        297.451355   \n",
       "75%         0.009893  ...           1.573966        457.420349   \n",
       "max         5.857625  ...           3.141587       3051.232666   \n",
       "\n",
       "       jet_1_const_1_constidx  jet_1_const_1_eta  jet_1_const_1_phi  \\\n",
       "count           999999.000000      999999.000000      999999.000000   \n",
       "mean                42.152459          -0.000095           0.002607   \n",
       "std                 24.853474           0.801470           1.814134   \n",
       "min                  0.000000          -2.991166          -3.141584   \n",
       "25%                 23.000000          -0.582413          -1.568188   \n",
       "50%                 37.000000          -0.000103           0.001433   \n",
       "75%                 56.000000           0.582099           1.574353   \n",
       "max                232.000000           2.924499           3.141577   \n",
       "\n",
       "       jet_1_const_1_pt  jet_1_const_2_constidx  jet_1_const_2_eta  \\\n",
       "count     999999.000000           999999.000000      999999.000000   \n",
       "mean         172.130874               41.236659          -0.000262   \n",
       "std           91.833627               24.550595           0.800964   \n",
       "min            0.000000                0.000000          -3.263251   \n",
       "25%          107.076359               22.000000          -0.582171   \n",
       "50%          151.967194               36.000000           0.000000   \n",
       "75%          215.580826               55.000000           0.581346   \n",
       "max         1453.972778              252.000000           2.997483   \n",
       "\n",
       "       jet_1_const_2_phi  jet_1_const_2_pt  \n",
       "count      999999.000000     999999.000000  \n",
       "mean            0.001974        109.761740  \n",
       "std             1.814223         52.990333  \n",
       "min            -3.141589          0.000000  \n",
       "25%            -1.569305         72.538658  \n",
       "50%             0.000000        100.143097  \n",
       "75%             1.574017        136.490982  \n",
       "max             3.141590        940.051208  \n",
       "\n",
       "[8 rows x 68 columns]"
      ]
     },
     "execution_count": 36,
     "metadata": {},
     "output_type": "execute_result"
    }
   ],
   "source": [
    "blackbox_df.describe()"
   ]
  },
  {
   "cell_type": "code",
   "execution_count": 18,
   "metadata": {},
   "outputs": [],
   "source": [
    "tau_names = background_df.columns[subjettiness_start:subjettiness_end]"
   ]
  },
  {
   "cell_type": "code",
   "execution_count": 16,
   "metadata": {},
   "outputs": [
    {
     "data": {
      "image/png": "[encoded data removed]",
      "text/plain": [
       "<Figure size 432x288 with 1 Axes>"
      ]
     },
     "metadata": {
      "needs_background": "light"
     },
     "output_type": "display_data"
    },
    {
     "name": "stdout",
     "output_type": "stream",
     "text": [
      "\n"
     ]
    },
    {
     "data": {
      "image/png": "[encoded data removed]",
      "text/plain": [
       "<Figure size 432x288 with 1 Axes>"
      ]
     },
     "metadata": {
      "needs_background": "light"
     },
     "output_type": "display_data"
    },
    {
     "name": "stdout",
     "output_type": "stream",
     "text": [
      "\n"
     ]
    },
    {
     "data": {
      "image/png": "[encoded data removed]",
      "text/plain": [
       "<Figure size 432x288 with 1 Axes>"
      ]
     },
     "metadata": {
      "needs_background": "light"
     },
     "output_type": "display_data"
    },
    {
     "name": "stdout",
     "output_type": "stream",
     "text": [
      "\n"
     ]
    },
    {
     "data": {
      "image/png": "[encoded data removed]",
      "text/plain": [
       "<Figure size 432x288 with 1 Axes>"
      ]
     },
     "metadata": {
      "needs_background": "light"
     },
     "output_type": "display_data"
    },
    {
     "name": "stdout",
     "output_type": "stream",
     "text": [
      "\n"
     ]
    },
    {
     "data": {
      "image/png": "[encoded data removed]",
      "text/plain": [
       "<Figure size 432x288 with 1 Axes>"
      ]
     },
     "metadata": {
      "needs_background": "light"
     },
     "output_type": "display_data"
    },
    {
     "name": "stdout",
     "output_type": "stream",
     "text": [
      "\n"
     ]
    },
    {
     "data": {
      "image/png": "[encoded data removed]",
      "text/plain": [
       "<Figure size 432x288 with 1 Axes>"
      ]
     },
     "metadata": {
      "needs_background": "light"
     },
     "output_type": "display_data"
    },
    {
     "name": "stdout",
     "output_type": "stream",
     "text": [
      "\n"
     ]
    },
    {
     "data": {
      "image/png": "[encoded data removed]",
      "text/plain": [
       "<Figure size 432x288 with 1 Axes>"
      ]
     },
     "metadata": {
      "needs_background": "light"
     },
     "output_type": "display_data"
    },
    {
     "name": "stdout",
     "output_type": "stream",
     "text": [
      "\n"
     ]
    },
    {
     "data": {
      "image/png": "[encoded data removed]",
      "text/plain": [
       "<Figure size 432x288 with 1 Axes>"
      ]
     },
     "metadata": {
      "needs_background": "light"
     },
     "output_type": "display_data"
    },
    {
     "name": "stdout",
     "output_type": "stream",
     "text": [
      "\n"
     ]
    },
    {
     "data": {
      "image/png": "[encoded data removed]",
      "text/plain": [
       "<Figure size 432x288 with 1 Axes>"
      ]
     },
     "metadata": {
      "needs_background": "light"
     },
     "output_type": "display_data"
    },
    {
     "name": "stdout",
     "output_type": "stream",
     "text": [
      "\n"
     ]
    },
    {
     "data": {
      "image/png": "[encoded data removed]",
      "text/plain": [
       "<Figure size 432x288 with 1 Axes>"
      ]
     },
     "metadata": {
      "needs_background": "light"
     },
     "output_type": "display_data"
    },
    {
     "name": "stdout",
     "output_type": "stream",
     "text": [
      "\n"
     ]
    }
   ],
   "source": [
    "# Indices of the subjettiness variables; first 5 are jet 0, second 5 are jet 1\n",
    "subjettiness_start = 3\n",
    "subjettiness_end = 13\n",
    "\n",
    "for param in range(subjettiness_end - subjettiness_start):\n",
    "    plt.hist(background_data_array[:, param], alpha=0.7, label='Background', density=True, bins=100)\n",
    "    plt.hist(blackbox_data_array[:, param], alpha=0.7, label='BlackBox', density=True, bins=100)\n",
    "    plt.title(f\"{background_df.columns[param+subjettiness_start]}\")\n",
    "    plt.legend(loc='upper right')\n",
    "    plt.show()\n",
    "    print()"
   ]
  },
  {
   "cell_type": "markdown",
   "metadata": {},
   "source": [
    "Let's try and find the outliers. For each $\\tau$ parameter, how many outliers do we have?"
   ]
  },
  {
   "cell_type": "code",
   "execution_count": 15,
   "metadata": {},
   "outputs": [
    {
     "data": {
      "text/plain": [
       "'evtIdx'"
      ]
     },
     "execution_count": 15,
     "metadata": {},
     "output_type": "execute_result"
    }
   ],
   "source": [
    "background_df.columns[subjettiness_start]"
   ]
  },
  {
   "cell_type": "code",
   "execution_count": 35,
   "metadata": {},
   "outputs": [
    {
     "name": "stdout",
     "output_type": "stream",
     "text": [
      "Parameter jet_0_tau_1:\n",
      "Background outliers: \t2135\n",
      "Blackbox outliers: \t2059\n",
      "\n",
      "Parameter jet_0_tau_2:\n",
      "Background outliers: \t5745\n",
      "Blackbox outliers: \t6476\n",
      "\n",
      "Parameter jet_0_tau_3:\n",
      "Background outliers: \t7110\n",
      "Blackbox outliers: \t8538\n",
      "\n",
      "Parameter jet_0_tau_r21:\n",
      "Background outliers: \t18672\n",
      "Blackbox outliers: \t18150\n",
      "\n",
      "Parameter jet_0_tau_r32:\n",
      "Background outliers: \t16519\n",
      "Blackbox outliers: \t16637\n",
      "\n",
      "Parameter jet_1_tau_1:\n",
      "Background outliers: \t3336\n",
      "Blackbox outliers: \t3574\n",
      "\n",
      "Parameter jet_1_tau_2:\n",
      "Background outliers: \t5541\n",
      "Blackbox outliers: \t5771\n",
      "\n",
      "Parameter jet_1_tau_3:\n",
      "Background outliers: \t6136\n",
      "Blackbox outliers: \t7117\n",
      "\n",
      "Parameter jet_1_tau_r21:\n",
      "Background outliers: \t17372\n",
      "Blackbox outliers: \t16044\n",
      "\n",
      "Parameter jet_1_tau_r32:\n",
      "Background outliers: \t14777\n",
      "Blackbox outliers: \t12764\n",
      "\n"
     ]
    }
   ],
   "source": [
    "z_threshold = 7\n",
    "\n",
    "# Grab only the things that are more than 3 standard deviations from the mean\n",
    "for tau in tau_names:\n",
    "    bg_mean = background_df[tau].mean()\n",
    "    bb_mean = blackbox_df[tau].mean()\n",
    "    \n",
    "    background_df_sub = background_df[background_df[tau] > z_threshold * bg_mean]\n",
    "    blackbox_df_sub = blackbox_df[blackbox_df[tau] > z_threshold * bb_mean]\n",
    "    \n",
    "    print(f\"Parameter {tau}:\")\n",
    "    print(f\"Background outliers: \\t{len(background_df_sub)}\")\n",
    "    print(f\"Blackbox outliers: \\t{len(blackbox_df_sub)}\")\n",
    "    print()"
   ]
  },
  {
   "cell_type": "markdown",
   "metadata": {},
   "source": [
    "Jet 0 $\\tau_2$ and $\\tau_3$ seem to have more outliers for the blackbox than for the background. Let's zoom in on these."
   ]
  },
  {
   "cell_type": "code",
   "execution_count": 38,
   "metadata": {},
   "outputs": [
    {
     "data": {
      "image/png": "[encoded data removed]",
      "text/plain": [
       "<Figure size 432x288 with 1 Axes>"
      ]
     },
     "metadata": {
      "needs_background": "light"
     },
     "output_type": "display_data"
    },
    {
     "name": "stdout",
     "output_type": "stream",
     "text": [
      "\n"
     ]
    },
    {
     "data": {
      "image/png": "[encoded data removed]",
      "text/plain": [
       "<Figure size 432x288 with 1 Axes>"
      ]
     },
     "metadata": {
      "needs_background": "light"
     },
     "output_type": "display_data"
    },
    {
     "name": "stdout",
     "output_type": "stream",
     "text": [
      "\n"
     ]
    }
   ],
   "source": [
    "subjettiness_start = 3\n",
    "subjettiness_end = 13\n",
    "\n",
    "for tau in ['jet_0_tau_2', 'jet_0_tau_3']:\n",
    "    bg_data = background_df[background_df[tau] < z_threshold * background_df[tau].mean()][tau].to_numpy()\n",
    "    bb_data = blackbox_df[blackbox_df[tau] < z_threshold * blackbox_df[tau].mean()][tau].to_numpy()\n",
    "    plt.hist(bg_data, alpha=0.7, label='Background', density=True, bins=100)\n",
    "    plt.hist(bb_data, alpha=0.7, label='BlackBox', density=True, bins=100)\n",
    "    plt.title(f\"{tau}\")\n",
    "    plt.legend(loc='upper right')\n",
    "    plt.show()\n",
    "    print()"
   ]
  },
  {
   "cell_type": "code",
   "execution_count": 49,
   "metadata": {},
   "outputs": [
    {
     "data": {
      "image/png": "[encoded data removed]",
      "text/plain": [
       "<Figure size 432x288 with 1 Axes>"
      ]
     },
     "metadata": {
      "needs_background": "light"
     },
     "output_type": "display_data"
    },
    {
     "name": "stdout",
     "output_type": "stream",
     "text": [
      "\n"
     ]
    },
    {
     "data": {
      "image/png": "[encoded data removed]",
      "text/plain": [
       "<Figure size 432x288 with 1 Axes>"
      ]
     },
     "metadata": {
      "needs_background": "light"
     },
     "output_type": "display_data"
    },
    {
     "name": "stdout",
     "output_type": "stream",
     "text": [
      "\n"
     ]
    },
    {
     "data": {
      "image/png": "[encoded data removed]",
      "text/plain": [
       "<Figure size 432x288 with 1 Axes>"
      ]
     },
     "metadata": {
      "needs_background": "light"
     },
     "output_type": "display_data"
    },
    {
     "name": "stdout",
     "output_type": "stream",
     "text": [
      "\n"
     ]
    },
    {
     "data": {
      "image/png": "[encoded data removed]",
      "text/plain": [
       "<Figure size 432x288 with 1 Axes>"
      ]
     },
     "metadata": {
      "needs_background": "light"
     },
     "output_type": "display_data"
    },
    {
     "name": "stdout",
     "output_type": "stream",
     "text": [
      "\n"
     ]
    },
    {
     "data": {
      "image/png": "[encoded data removed]",
      "text/plain": [
       "<Figure size 432x288 with 1 Axes>"
      ]
     },
     "metadata": {
      "needs_background": "light"
     },
     "output_type": "display_data"
    },
    {
     "name": "stdout",
     "output_type": "stream",
     "text": [
      "\n"
     ]
    },
    {
     "data": {
      "image/png": "[encoded data removed]",
      "text/plain": [
       "<Figure size 432x288 with 1 Axes>"
      ]
     },
     "metadata": {
      "needs_background": "light"
     },
     "output_type": "display_data"
    },
    {
     "name": "stdout",
     "output_type": "stream",
     "text": [
      "\n"
     ]
    },
    {
     "data": {
      "image/png": "[encoded data removed]",
      "text/plain": [
       "<Figure size 432x288 with 1 Axes>"
      ]
     },
     "metadata": {
      "needs_background": "light"
     },
     "output_type": "display_data"
    },
    {
     "name": "stdout",
     "output_type": "stream",
     "text": [
      "\n"
     ]
    },
    {
     "data": {
      "image/png": "[encoded data removed]",
      "text/plain": [
       "<Figure size 432x288 with 1 Axes>"
      ]
     },
     "metadata": {
      "needs_background": "light"
     },
     "output_type": "display_data"
    },
    {
     "name": "stdout",
     "output_type": "stream",
     "text": [
      "\n"
     ]
    },
    {
     "data": {
      "image/png": "[encoded data removed]",
      "text/plain": [
       "<Figure size 432x288 with 1 Axes>"
      ]
     },
     "metadata": {
      "needs_background": "light"
     },
     "output_type": "display_data"
    },
    {
     "name": "stdout",
     "output_type": "stream",
     "text": [
      "\n"
     ]
    },
    {
     "data": {
      "image/png": "[encoded data removed]",
      "text/plain": [
       "<Figure size 432x288 with 1 Axes>"
      ]
     },
     "metadata": {
      "needs_background": "light"
     },
     "output_type": "display_data"
    },
    {
     "name": "stdout",
     "output_type": "stream",
     "text": [
      "\n"
     ]
    }
   ],
   "source": [
    "z_threshold = 10\n",
    "\n",
    "for tau in tau_names:\n",
    "    threshold = 3\n",
    "    if 'r' in tau:\n",
    "        threshold = 1000\n",
    "    bg_data = background_df[background_df[tau] > threshold][tau].to_numpy()\n",
    "    bb_data = blackbox_df[blackbox_df[tau] > threshold][tau].to_numpy()\n",
    "    plt.hist(bg_data, alpha=0.7, label='Background', density=False, bins=20)\n",
    "    plt.hist(bb_data, alpha=0.7, label='BlackBox', density=False, bins=20)\n",
    "    plt.title(f\"{tau}\")\n",
    "    plt.legend(loc='upper right')\n",
    "    plt.show()\n",
    "    print()"
   ]
  },
  {
   "cell_type": "code",
   "execution_count": null,
   "metadata": {},
   "outputs": [],
   "source": []
  }
 ],
 "metadata": {
  "kernelspec": {
   "display_name": "Python 3",
   "language": "python",
   "name": "python3"
  },
  "language_info": {
   "codemirror_mode": {
    "name": "ipython",
    "version": 3
   },
   "file_extension": ".py",
   "mimetype": "text/x-python",
   "name": "python",
   "nbconvert_exporter": "python",
   "pygments_lexer": "ipython3",
   "version": "3.7.5"
  }
 },
 "nbformat": 4,
 "nbformat_minor": 4
}

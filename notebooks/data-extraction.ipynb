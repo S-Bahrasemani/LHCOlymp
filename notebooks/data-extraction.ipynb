{
 "cells": [
  {
   "cell_type": "code",
   "execution_count": 4,
   "metadata": {},
   "outputs": [],
   "source": [
    "import h5py    \n",
    "import numpy as np \n",
    "import matplotlib.pyplot as plt\n",
    "from pyjet import cluster,DTYPE_PTEPM\n",
    "import pandas as pd\n",
    "\n",
    "import sys\n",
    "sys.path.append(\"../data\")"
   ]
  },
  {
   "cell_type": "code",
   "execution_count": 6,
   "metadata": {},
   "outputs": [],
   "source": [
    "f = pd.read_hdf(\"data/events_anomalydetection.h5\")"
   ]
  },
  {
   "cell_type": "code",
   "execution_count": 7,
   "metadata": {},
   "outputs": [],
   "source": [
    "events_combined = f.T"
   ]
  },
  {
   "cell_type": "code",
   "execution_count": 8,
   "metadata": {},
   "outputs": [
    {
     "name": "stdout",
     "output_type": "stream",
     "text": [
      "background 0\n",
      "signal 0\n"
     ]
    }
   ],
   "source": [
    "# This is the boilerplate code from the LHC Olympics webpage\n",
    "leadpT = {}\n",
    "alljets = {}\n",
    "for mytype in ['background','signal']:\n",
    "    leadpT[mytype]=[]\n",
    "    alljets[mytype]=[]\n",
    "    for i in range(10): #len(events_combined)):\n",
    "        if (i%10000==0):\n",
    "            print(mytype,i)\n",
    "            pass\n",
    "        issignal = events_combined[i][2100]\n",
    "        if (mytype=='background' and issignal):\n",
    "            continue\n",
    "        elif (mytype=='signal' and issignal==0):\n",
    "             continue\n",
    "        pseudojets_input = np.zeros(len([x for x in events_combined[i][::3] if x > 0]), dtype=DTYPE_PTEPM)\n",
    "        for j in range(700):\n",
    "            if (events_combined[i][j*3]>0):\n",
    "                pseudojets_input[j]['pT'] = events_combined[i][j*3]\n",
    "                pseudojets_input[j]['eta'] = events_combined[i][j*3+1]\n",
    "                pseudojets_input[j]['phi'] = events_combined[i][j*3+2]\n",
    "                pass\n",
    "            pass\n",
    "        sequence = cluster(pseudojets_input, R=1.0, p=-1)\n",
    "        jets = sequence.inclusive_jets(ptmin=20)\n",
    "        leadpT[mytype] += [jets[0].pt]\n",
    "        alljets[mytype] += [jets]\n",
    "        pass"
   ]
  },
  {
   "cell_type": "code",
   "execution_count": 9,
   "metadata": {},
   "outputs": [],
   "source": [
    "# We will create a numpy record array with the following fields\n",
    "# With this we can easily create a pandas dataframe, csv, etc. \n",
    "pseudojet_dtype = [('id', np.float64), # identifies which cluster the jet is in  \n",
    "                   ('px', np.float64),\n",
    "                   ('py', np.float64),\n",
    "                   ('pz', np.float64),\n",
    "                   ('eta', np.float64), \n",
    "                   ('phi', np.float64), \n",
    "                   ('mass', np.float64),\n",
    "                   ('signal', bool)] # True for signal, False for background"
   ]
  },
  {
   "cell_type": "code",
   "execution_count": 10,
   "metadata": {},
   "outputs": [],
   "source": [
    "# How many total jets?\n",
    "num_clusters = len(alljets['background']) + len(alljets['signal'])\n",
    "num_total_jets = sum([len(x) for x in alljets['background']]) + sum([len(x) for x in alljets['signal']])\n",
    "\n",
    "# Collect the jet data\n",
    "jet_data = np.zeros((num_total_jets, ), dtype=pseudojet_dtype)\n",
    "\n",
    "cluster_idx = 0\n",
    "jet_idx = 0\n",
    "\n",
    "for jet_type in ['background', 'signal']:\n",
    "    for cluster in alljets[jet_type]:\n",
    "        for jet in cluster:\n",
    "            is_signal = True if jet_type == 'signal' else False\n",
    "            jet_data[jet_idx] = (cluster_idx, jet.px, jet.py, jet.pz, jet.eta, jet.phi, jet.mass, is_signal)\n",
    "            jet_idx += 1\n",
    "        cluster_idx += 1"
   ]
  },
  {
   "cell_type": "code",
   "execution_count": 11,
   "metadata": {},
   "outputs": [
    {
     "data": {
      "text/plain": [
       "array([(0., -1195.93017811,  -474.7832617 ,  2.40069632e+02,  0.18550795, -2.76367589, 106.91212896, False),\n",
       "       (0.,  1185.05508299,   492.23967647,  8.34539598e+01,  0.06498901,  0.39368817,  63.16421456, False),\n",
       "       (1.,   276.07174443,  1325.95915792,  1.25128542e+03,  0.82650514,  1.36552363, 614.26910803, False),\n",
       "       (1.,  -283.40146707, -1294.96542476, -1.31242053e+03, -0.87431854, -1.78624819, 439.06415038, False),\n",
       "       (1.,    18.25001714,   -12.30086545,  1.98862701e+00,  0.09023469, -0.59307569,   8.62167673, False),\n",
       "       (2.,  -549.9642844 ,  1083.35437176, -2.40632513e+02, -0.19678612,  2.04054478, 645.86561897, False),\n",
       "       (2.,   495.68446706,  -951.03724046,  1.54786053e+02,  0.14383133, -1.09032972, 113.76883957, False),\n",
       "       (3., -1267.50282197,   212.71408746,  4.30093084e+02,  0.32869279,  2.97532067, 516.83524812, False),\n",
       "       (3.,  1157.28029859,  -386.93086452,  3.65032626e+02,  0.29485445, -0.32266076, 174.796077  , False),\n",
       "       (3.,   126.62928513,   182.07531032,  3.65359915e+02,  1.27383942,  0.96311204,  21.51270628, False),\n",
       "       (4., -1238.80802251,  -112.72072838, -2.48869530e+03, -1.44393879, -3.05085125, 586.00085105, False),\n",
       "       (4.,  1127.32223147,   213.93065478,  2.60989833e+01,  0.02274341,  0.18753885, 105.72741029, False),\n",
       "       (4.,    36.32778443,  -143.58148495, -5.27182472e+01, -0.34883203, -1.32298521,  25.49975138, False),\n",
       "       (4.,    23.23765854,    37.21621477,  5.78321061e+01,  1.08944112,  1.01263141,  18.55749508, False),\n",
       "       (5., -1417.95664028,   108.79582564, -2.80862002e+02, -0.19623286,  3.0650155 , 270.64776241, False),\n",
       "       (5.,  1197.55207783,   -23.68253123, -8.28295428e+02, -0.64570722, -0.01977321, 401.83034596, False),\n",
       "       (5.,   286.07061025,  -111.6296751 ,  1.63305696e+02,  0.5094752 , -0.37204459,  57.75458218, False),\n",
       "       (5.,   -85.33645572,   -97.64829704,  4.60912541e+02,  1.98049573, -2.28901232,  47.42033355, False),\n",
       "       (5.,    22.25053516,    43.74349052, -6.75772201e+02, -3.31692301,  1.10024527,  19.64438562, False),\n",
       "       (5.,     5.66182816,    35.31559281, -4.40263933e+01, -1.03562887,  1.41182818,  13.93285338, False),\n",
       "       (5.,   -31.43382049,    13.32682635, -3.37169684e+02, -2.98575319,  2.74059935,   7.82311305, False),\n",
       "       (5.,    22.06154568,     8.21056875,  1.81909866e+02,  2.74212344,  0.35628422,   6.74278245, False),\n",
       "       (6., -1226.6603948 ,  -760.78201138, -1.07302076e+03, -0.6878456 , -2.58644821, 129.68302345, False),\n",
       "       (6.,  1194.39488788,   748.89728629, -2.35072364e+02, -0.16598304,  0.56004325, 132.53339436, False),\n",
       "       (6.,   -36.88108061,   -24.21292088,  7.00717497e+01,  1.24273772, -2.56065226,  13.56716822, False),\n",
       "       (6.,    -3.57113823,    21.50974901,  2.30270039e+02,  3.05253215,  1.73531981,   7.46857667, False),\n",
       "       (7.,   946.88392419,  1005.72153495,  4.29826366e+02,  0.30635452,  0.81552192, 296.61553169, False),\n",
       "       (7.,  -963.16892412,  -901.41520061, -1.27370477e+03, -0.85678513, -2.38930169, 313.8714713 , False),\n",
       "       (7.,    83.25612993,   -74.52888197,  1.38576938e+02,  1.04142977, -0.73014346,  21.90934153, False),\n",
       "       (8., -1170.2777136 ,  -309.12206372, -9.87266341e+02, -0.74483631, -2.88334674, 129.49935171,  True),\n",
       "       (8.,  1053.68099781,   285.92415448,  1.38746392e+03,  1.0605338 ,  0.26497659, 155.36226176,  True),\n",
       "       (8.,   181.88902413,    58.04162834,  2.53299863e+00,  0.01326658,  0.30889053,  13.13182436,  True),\n",
       "       (8.,   -27.16356309,   -23.34361903, -1.08506279e+02, -1.82774986, -2.43168248,  11.29910926,  True),\n",
       "       (9.,   672.00374102,  1656.50721771, -1.92481357e+03, -0.93461171,  1.18540721,  99.16889752,  True),\n",
       "       (9.,  -644.07390564, -1592.32224095, -2.13970558e+03, -1.04491459, -1.95516495, 515.0544186 ,  True)],\n",
       "      dtype=[('id', '<f8'), ('px', '<f8'), ('py', '<f8'), ('pz', '<f8'), ('eta', '<f8'), ('phi', '<f8'), ('mass', '<f8'), ('signal', '?')])"
      ]
     },
     "execution_count": 11,
     "metadata": {},
     "output_type": "execute_result"
    }
   ],
   "source": [
    "jet_data"
   ]
  },
  {
   "cell_type": "code",
   "execution_count": 14,
   "metadata": {},
   "outputs": [
    {
     "data": {
      "text/plain": [
       "array([106.91212896,  63.16421456, 614.26910803, 439.06415038,\n",
       "         8.62167673, 645.86561897, 113.76883957, 516.83524812,\n",
       "       174.796077  ,  21.51270628, 586.00085105, 105.72741029,\n",
       "        25.49975138,  18.55749508, 270.64776241, 401.83034596,\n",
       "        57.75458218,  47.42033355,  19.64438562,  13.93285338,\n",
       "         7.82311305,   6.74278245, 129.68302345, 132.53339436,\n",
       "        13.56716822,   7.46857667, 296.61553169, 313.8714713 ,\n",
       "        21.90934153, 129.49935171, 155.36226176,  13.13182436,\n",
       "        11.29910926,  99.16889752, 515.0544186 ])"
      ]
     },
     "execution_count": 14,
     "metadata": {},
     "output_type": "execute_result"
    }
   ],
   "source": [
    "jet_data['mass']"
   ]
  }
 ],
 "metadata": {
  "kernelspec": {
   "display_name": "Python 3",
   "language": "python",
   "name": "python3"
  },
  "language_info": {
   "codemirror_mode": {
    "name": "ipython",
    "version": 3
   },
   "file_extension": ".py",
   "mimetype": "text/x-python",
   "name": "python",
   "nbconvert_exporter": "python",
   "pygments_lexer": "ipython3",
   "version": "3.7.5"
  }
 },
 "nbformat": 4,
 "nbformat_minor": 4
}

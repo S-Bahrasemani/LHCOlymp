{
 "cells": [
  {
   "cell_type": "markdown",
   "metadata": {},
   "source": [
    "# Boosted Decision Tree"
   ]
  },
  {
   "cell_type": "code",
   "execution_count": 1,
   "metadata": {},
   "outputs": [],
   "source": [
    "import pandas as pd\n",
    "import sklearn\n",
    "from sklearn.ensemble import GradientBoostingClassifier\n",
    "from sklearn.preprocessing import StandardScaler"
   ]
  },
  {
   "cell_type": "code",
   "execution_count": 2,
   "metadata": {},
   "outputs": [],
   "source": [
    "## load dataset\n",
    "df = pd.read_pickle(\"../data/dataFrames/df_dev_const_wtruth_20k_subjettiness.pkl\")"
   ]
  },
  {
   "cell_type": "code",
   "execution_count": 3,
   "metadata": {},
   "outputs": [],
   "source": [
    "params={'n_estimators': 100, \n",
    "        'learning_rate': 0.1, \n",
    "        'max_depth':10, \n",
    "        'min_samples_leaf':0.005, \n",
    "        'min_samples_split':0.01\n",
    "       }\n",
    "model=GradientBoostingClassifier(**params)"
   ]
  },
  {
   "cell_type": "code",
   "execution_count": 4,
   "metadata": {},
   "outputs": [],
   "source": [
    "def train_model(model, \n",
    "    train_df=None,\n",
    "    features=[], \n",
    "    positive_weights=True, \n",
    "    balanced=True,\n",
    "    outdir=\"\", \n",
    "    weight_sample=False, \n",
    "    scale_features=True, \n",
    "    save_model=True, \n",
    "    overwrite=False):\n",
    "    \"\"\" Train a classifier and produce some validation plots.\n",
    "    Parameters\n",
    "    ----------\n",
    "    model: DecisionTree;\n",
    "        sklearn classifier \n",
    "    train_df: pandas.DataFrame; \n",
    "        training dataframe  \n",
    "    outdir: str;\n",
    "        path to save the model and roc curve \n",
    "    weight_sample: bool;\n",
    "        whether to use the sample weight or go with the sklearn's default balanced weight procedure for the classes. \n",
    "    save_model: bool;\n",
    "        whether to save the trained model to disk or not\n",
    "\n",
    "    Return\n",
    "    ------\n",
    "    trained model \n",
    "    \"\"\"\n",
    "    tr_df=train_df\n",
    "    if weight_sample:\n",
    "        balanced = False\n",
    "\n",
    "    if train_df is None:\n",
    "        tr_df = model.train_df\n",
    "    if not features :\n",
    "        features = model.features\n",
    "\n",
    "\n",
    "    if balanced: \n",
    "        weight_sample = False   \n",
    "        b_df = tr_df[tr_df[\"isSignal\"]==0]\n",
    "        s_df = tr_df[tr_df[\"isSignal\"]==1]\n",
    "        print(\"Balancing training classes (under-sampling); signal events:{} | bkg events: {}\".format(s_df.shape[0], b_df.shape[0]))\n",
    "        b_df = b_df.sample(s_df.shape[0], replace=True)\n",
    "        tr_df_ud = pd.concat([b_df, s_df], axis=0)\n",
    "\n",
    "    ## - - training arrays\n",
    "    X_train = tr_df_ud[[ft for ft in features]]    \n",
    "    Y_train = tr_df_ud[\"isSignal\"]\n",
    "   # if weight_sample:\n",
    "    if False:\n",
    "        print(\"Using event weight for training, events with negative weight are thrown away\")        \n",
    "        X_weight = tr_df_ud[\"weight\"] \n",
    "        ## in order to avoid events with negative weight thrown away        \n",
    "        if positive_weights: \n",
    "            X_weight = np.absolute(X_weight.values)\n",
    "\n",
    "   # if scale_features:\n",
    "    if False:\n",
    "        print(\"Scaling features using StandardScaler ...\")\n",
    "        scaler = StandardScaler()\n",
    "        X_train = scaler.fit_transform(X_train.values)\n",
    "\n",
    "    is_trained = False       \n",
    "    \n",
    "    if not is_trained:\n",
    "        ## train the model,\n",
    "        model = model.fit(X_train.values, Y_train.values, sample_weight=X_weight if weight_sample else None)    \n",
    "    return model"
   ]
  },
  {
   "cell_type": "code",
   "execution_count": 5,
   "metadata": {},
   "outputs": [
    {
     "name": "stdout",
     "output_type": "stream",
     "text": [
      "Balancing training classes (under-sampling); signal events:1742 | bkg events: 18258\n"
     ]
    }
   ],
   "source": [
    "trainedModel=train_model(model=model,train_df=df,features=['mjj','dEtajj'])"
   ]
  },
  {
   "cell_type": "code",
   "execution_count": 6,
   "metadata": {},
   "outputs": [
    {
     "data": {
      "text/plain": [
       "0.8271"
      ]
     },
     "execution_count": 6,
     "metadata": {},
     "output_type": "execute_result"
    }
   ],
   "source": [
    "X_train = df[['mjj','dEtajj']]\n",
    "Y_train = df['isSignal']\n",
    "trainedModel.score(X_train,Y_train)"
   ]
  },
  {
   "cell_type": "code",
   "execution_count": null,
   "metadata": {},
   "outputs": [],
   "source": []
  }
 ],
 "metadata": {
  "kernelspec": {
   "display_name": "lhcolymp",
   "language": "python",
   "name": "lhcolymp"
  },
  "language_info": {
   "codemirror_mode": {
    "name": "ipython",
    "version": 3
   },
   "file_extension": ".py",
   "mimetype": "text/x-python",
   "name": "python",
   "nbconvert_exporter": "python",
   "pygments_lexer": "ipython3",
   "version": "3.7.3"
  }
 },
 "nbformat": 4,
 "nbformat_minor": 2
}

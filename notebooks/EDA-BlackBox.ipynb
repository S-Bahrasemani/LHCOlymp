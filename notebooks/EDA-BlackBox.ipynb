{
 "cells": [
  {
   "cell_type": "markdown",
   "metadata": {},
   "source": [
    "## Black-box exploratory data analysis"
   ]
  },
  {
   "cell_type": "code",
   "execution_count": 1,
   "metadata": {},
   "outputs": [],
   "source": [
    "import pandas as pd\n",
    "import numpy as np\n",
    "import torch\n",
    "import matplotlib.pyplot as plt"
   ]
  },
  {
   "cell_type": "code",
   "execution_count": 6,
   "metadata": {},
   "outputs": [],
   "source": [
    "## load dataset\n",
    "df = pd.read_pickle(\"../dataFrames/df_events_LHCO2020_BlackBox1.pkl\")"
   ]
  },
  {
   "cell_type": "code",
   "execution_count": 7,
   "metadata": {},
   "outputs": [
    {
     "data": {
      "text/html": [
       "<div>\n",
       "<style scoped>\n",
       "    .dataframe tbody tr th:only-of-type {\n",
       "        vertical-align: middle;\n",
       "    }\n",
       "\n",
       "    .dataframe tbody tr th {\n",
       "        vertical-align: top;\n",
       "    }\n",
       "\n",
       "    .dataframe thead th {\n",
       "        text-align: right;\n",
       "    }\n",
       "</style>\n",
       "<table border=\"1\" class=\"dataframe\">\n",
       "  <thead>\n",
       "    <tr style=\"text-align: right;\">\n",
       "      <th></th>\n",
       "      <th>evtIdx</th>\n",
       "      <th>isSignal</th>\n",
       "      <th>jet_0_tau_1</th>\n",
       "      <th>jet_0_tau_2</th>\n",
       "      <th>jet_0_tau_3</th>\n",
       "      <th>jet_0_tau_r21</th>\n",
       "      <th>jet_0_tau_r32</th>\n",
       "      <th>jet_1_tau_1</th>\n",
       "      <th>jet_1_tau_2</th>\n",
       "      <th>jet_1_tau_3</th>\n",
       "      <th>...</th>\n",
       "      <th>jet_1_const_0_phi</th>\n",
       "      <th>jet_1_const_0_pt</th>\n",
       "      <th>jet_1_const_1_constidx</th>\n",
       "      <th>jet_1_const_1_eta</th>\n",
       "      <th>jet_1_const_1_phi</th>\n",
       "      <th>jet_1_const_1_pt</th>\n",
       "      <th>jet_1_const_2_constidx</th>\n",
       "      <th>jet_1_const_2_eta</th>\n",
       "      <th>jet_1_const_2_phi</th>\n",
       "      <th>jet_1_const_2_pt</th>\n",
       "    </tr>\n",
       "  </thead>\n",
       "  <tbody>\n",
       "    <tr>\n",
       "      <th>count</th>\n",
       "      <td>999999.000000</td>\n",
       "      <td>999999.0</td>\n",
       "      <td>999999.000000</td>\n",
       "      <td>999999.000000</td>\n",
       "      <td>999999.000000</td>\n",
       "      <td>999999.000000</td>\n",
       "      <td>999999.000000</td>\n",
       "      <td>999999.000000</td>\n",
       "      <td>999999.000000</td>\n",
       "      <td>999999.000000</td>\n",
       "      <td>...</td>\n",
       "      <td>999999.000000</td>\n",
       "      <td>999999.000000</td>\n",
       "      <td>999999.000000</td>\n",
       "      <td>999999.000000</td>\n",
       "      <td>999999.000000</td>\n",
       "      <td>999999.000000</td>\n",
       "      <td>999999.000000</td>\n",
       "      <td>999999.000000</td>\n",
       "      <td>999999.000000</td>\n",
       "      <td>999999.000000</td>\n",
       "    </tr>\n",
       "    <tr>\n",
       "      <th>mean</th>\n",
       "      <td>499999.000000</td>\n",
       "      <td>0.0</td>\n",
       "      <td>0.012130</td>\n",
       "      <td>0.008784</td>\n",
       "      <td>0.007986</td>\n",
       "      <td>2.496328</td>\n",
       "      <td>2.689362</td>\n",
       "      <td>0.012478</td>\n",
       "      <td>0.009563</td>\n",
       "      <td>0.009022</td>\n",
       "      <td>...</td>\n",
       "      <td>0.001732</td>\n",
       "      <td>352.584944</td>\n",
       "      <td>42.152459</td>\n",
       "      <td>-0.000095</td>\n",
       "      <td>0.002607</td>\n",
       "      <td>172.130874</td>\n",
       "      <td>41.236659</td>\n",
       "      <td>-0.000262</td>\n",
       "      <td>0.001974</td>\n",
       "      <td>109.761740</td>\n",
       "    </tr>\n",
       "    <tr>\n",
       "      <th>std</th>\n",
       "      <td>288674.990257</td>\n",
       "      <td>0.0</td>\n",
       "      <td>0.029040</td>\n",
       "      <td>0.022206</td>\n",
       "      <td>0.021723</td>\n",
       "      <td>44.426082</td>\n",
       "      <td>32.203297</td>\n",
       "      <td>0.036290</td>\n",
       "      <td>0.031878</td>\n",
       "      <td>0.027302</td>\n",
       "      <td>...</td>\n",
       "      <td>1.814509</td>\n",
       "      <td>221.459319</td>\n",
       "      <td>24.853474</td>\n",
       "      <td>0.801470</td>\n",
       "      <td>1.814134</td>\n",
       "      <td>91.833627</td>\n",
       "      <td>24.550595</td>\n",
       "      <td>0.800964</td>\n",
       "      <td>1.814223</td>\n",
       "      <td>52.990333</td>\n",
       "    </tr>\n",
       "    <tr>\n",
       "      <th>min</th>\n",
       "      <td>0.000000</td>\n",
       "      <td>0.0</td>\n",
       "      <td>0.000000</td>\n",
       "      <td>0.000000</td>\n",
       "      <td>0.000000</td>\n",
       "      <td>0.000000</td>\n",
       "      <td>0.000000</td>\n",
       "      <td>0.000000</td>\n",
       "      <td>0.000000</td>\n",
       "      <td>0.000000</td>\n",
       "      <td>...</td>\n",
       "      <td>-3.141593</td>\n",
       "      <td>20.321569</td>\n",
       "      <td>0.000000</td>\n",
       "      <td>-2.991166</td>\n",
       "      <td>-3.141584</td>\n",
       "      <td>0.000000</td>\n",
       "      <td>0.000000</td>\n",
       "      <td>-3.263251</td>\n",
       "      <td>-3.141589</td>\n",
       "      <td>0.000000</td>\n",
       "    </tr>\n",
       "    <tr>\n",
       "      <th>25%</th>\n",
       "      <td>249999.500000</td>\n",
       "      <td>0.0</td>\n",
       "      <td>0.002989</td>\n",
       "      <td>0.002441</td>\n",
       "      <td>0.002400</td>\n",
       "      <td>0.282549</td>\n",
       "      <td>0.431399</td>\n",
       "      <td>0.003192</td>\n",
       "      <td>0.002777</td>\n",
       "      <td>0.002788</td>\n",
       "      <td>...</td>\n",
       "      <td>-1.569745</td>\n",
       "      <td>190.983414</td>\n",
       "      <td>23.000000</td>\n",
       "      <td>-0.582413</td>\n",
       "      <td>-1.568188</td>\n",
       "      <td>107.076359</td>\n",
       "      <td>22.000000</td>\n",
       "      <td>-0.582171</td>\n",
       "      <td>-1.569305</td>\n",
       "      <td>72.538658</td>\n",
       "    </tr>\n",
       "    <tr>\n",
       "      <th>50%</th>\n",
       "      <td>499999.000000</td>\n",
       "      <td>0.0</td>\n",
       "      <td>0.006584</td>\n",
       "      <td>0.004836</td>\n",
       "      <td>0.004577</td>\n",
       "      <td>0.861612</td>\n",
       "      <td>1.000000</td>\n",
       "      <td>0.006614</td>\n",
       "      <td>0.005368</td>\n",
       "      <td>0.005293</td>\n",
       "      <td>...</td>\n",
       "      <td>0.001282</td>\n",
       "      <td>297.451355</td>\n",
       "      <td>37.000000</td>\n",
       "      <td>-0.000103</td>\n",
       "      <td>0.001433</td>\n",
       "      <td>151.967194</td>\n",
       "      <td>36.000000</td>\n",
       "      <td>0.000000</td>\n",
       "      <td>0.000000</td>\n",
       "      <td>100.143097</td>\n",
       "    </tr>\n",
       "    <tr>\n",
       "      <th>75%</th>\n",
       "      <td>749998.500000</td>\n",
       "      <td>0.0</td>\n",
       "      <td>0.014813</td>\n",
       "      <td>0.009656</td>\n",
       "      <td>0.008779</td>\n",
       "      <td>1.850778</td>\n",
       "      <td>2.032805</td>\n",
       "      <td>0.014085</td>\n",
       "      <td>0.010313</td>\n",
       "      <td>0.009893</td>\n",
       "      <td>...</td>\n",
       "      <td>1.573966</td>\n",
       "      <td>457.420349</td>\n",
       "      <td>56.000000</td>\n",
       "      <td>0.582099</td>\n",
       "      <td>1.574353</td>\n",
       "      <td>215.580826</td>\n",
       "      <td>55.000000</td>\n",
       "      <td>0.581346</td>\n",
       "      <td>1.574017</td>\n",
       "      <td>136.490982</td>\n",
       "    </tr>\n",
       "    <tr>\n",
       "      <th>max</th>\n",
       "      <td>999998.000000</td>\n",
       "      <td>0.0</td>\n",
       "      <td>5.993892</td>\n",
       "      <td>5.772088</td>\n",
       "      <td>5.919134</td>\n",
       "      <td>38616.197411</td>\n",
       "      <td>16100.068369</td>\n",
       "      <td>6.016278</td>\n",
       "      <td>6.058575</td>\n",
       "      <td>5.857625</td>\n",
       "      <td>...</td>\n",
       "      <td>3.141587</td>\n",
       "      <td>3051.232666</td>\n",
       "      <td>232.000000</td>\n",
       "      <td>2.924499</td>\n",
       "      <td>3.141577</td>\n",
       "      <td>1453.972778</td>\n",
       "      <td>252.000000</td>\n",
       "      <td>2.997483</td>\n",
       "      <td>3.141590</td>\n",
       "      <td>940.051208</td>\n",
       "    </tr>\n",
       "  </tbody>\n",
       "</table>\n",
       "<p>8 rows × 68 columns</p>\n",
       "</div>"
      ],
      "text/plain": [
       "              evtIdx  isSignal    jet_0_tau_1    jet_0_tau_2    jet_0_tau_3  \\\n",
       "count  999999.000000  999999.0  999999.000000  999999.000000  999999.000000   \n",
       "mean   499999.000000       0.0       0.012130       0.008784       0.007986   \n",
       "std    288674.990257       0.0       0.029040       0.022206       0.021723   \n",
       "min         0.000000       0.0       0.000000       0.000000       0.000000   \n",
       "25%    249999.500000       0.0       0.002989       0.002441       0.002400   \n",
       "50%    499999.000000       0.0       0.006584       0.004836       0.004577   \n",
       "75%    749998.500000       0.0       0.014813       0.009656       0.008779   \n",
       "max    999998.000000       0.0       5.993892       5.772088       5.919134   \n",
       "\n",
       "       jet_0_tau_r21  jet_0_tau_r32    jet_1_tau_1    jet_1_tau_2  \\\n",
       "count  999999.000000  999999.000000  999999.000000  999999.000000   \n",
       "mean        2.496328       2.689362       0.012478       0.009563   \n",
       "std        44.426082      32.203297       0.036290       0.031878   \n",
       "min         0.000000       0.000000       0.000000       0.000000   \n",
       "25%         0.282549       0.431399       0.003192       0.002777   \n",
       "50%         0.861612       1.000000       0.006614       0.005368   \n",
       "75%         1.850778       2.032805       0.014085       0.010313   \n",
       "max     38616.197411   16100.068369       6.016278       6.058575   \n",
       "\n",
       "         jet_1_tau_3  ...  jet_1_const_0_phi  jet_1_const_0_pt  \\\n",
       "count  999999.000000  ...      999999.000000     999999.000000   \n",
       "mean        0.009022  ...           0.001732        352.584944   \n",
       "std         0.027302  ...           1.814509        221.459319   \n",
       "min         0.000000  ...          -3.141593         20.321569   \n",
       "25%         0.002788  ...          -1.569745        190.983414   \n",
       "50%         0.005293  ...           0.001282        297.451355   \n",
       "75%         0.009893  ...           1.573966        457.420349   \n",
       "max         5.857625  ...           3.141587       3051.232666   \n",
       "\n",
       "       jet_1_const_1_constidx  jet_1_const_1_eta  jet_1_const_1_phi  \\\n",
       "count           999999.000000      999999.000000      999999.000000   \n",
       "mean                42.152459          -0.000095           0.002607   \n",
       "std                 24.853474           0.801470           1.814134   \n",
       "min                  0.000000          -2.991166          -3.141584   \n",
       "25%                 23.000000          -0.582413          -1.568188   \n",
       "50%                 37.000000          -0.000103           0.001433   \n",
       "75%                 56.000000           0.582099           1.574353   \n",
       "max                232.000000           2.924499           3.141577   \n",
       "\n",
       "       jet_1_const_1_pt  jet_1_const_2_constidx  jet_1_const_2_eta  \\\n",
       "count     999999.000000           999999.000000      999999.000000   \n",
       "mean         172.130874               41.236659          -0.000262   \n",
       "std           91.833627               24.550595           0.800964   \n",
       "min            0.000000                0.000000          -3.263251   \n",
       "25%          107.076359               22.000000          -0.582171   \n",
       "50%          151.967194               36.000000           0.000000   \n",
       "75%          215.580826               55.000000           0.581346   \n",
       "max         1453.972778              252.000000           2.997483   \n",
       "\n",
       "       jet_1_const_2_phi  jet_1_const_2_pt  \n",
       "count      999999.000000     999999.000000  \n",
       "mean            0.001974        109.761740  \n",
       "std             1.814223         52.990333  \n",
       "min            -3.141589          0.000000  \n",
       "25%            -1.569305         72.538658  \n",
       "50%             0.000000        100.143097  \n",
       "75%             1.574017        136.490982  \n",
       "max             3.141590        940.051208  \n",
       "\n",
       "[8 rows x 68 columns]"
      ]
     },
     "execution_count": 7,
     "metadata": {},
     "output_type": "execute_result"
    }
   ],
   "source": [
    "df.describe()"
   ]
  },
  {
   "cell_type": "markdown",
   "metadata": {},
   "source": [
    "Grab the kinematic variables like mass, momentum, etc."
   ]
  },
  {
   "cell_type": "code",
   "execution_count": 21,
   "metadata": {},
   "outputs": [],
   "source": [
    "kin_start = 13\n",
    "kin_end = 23\n",
    "kinematic_data_array = df.to_numpy()[:,kin_start:kin_end].astype(float)"
   ]
  },
  {
   "cell_type": "code",
   "execution_count": 26,
   "metadata": {},
   "outputs": [
    {
     "data": {
      "image/png": "[encoded data removed]",
      "text/plain": [
       "<Figure size 432x288 with 1 Axes>"
      ]
     },
     "metadata": {
      "needs_background": "light"
     },
     "output_type": "display_data"
    },
    {
     "name": "stdout",
     "output_type": "stream",
     "text": [
      "\n"
     ]
    },
    {
     "data": {
      "image/png": "[encoded data removed]",
      "text/plain": [
       "<Figure size 432x288 with 1 Axes>"
      ]
     },
     "metadata": {
      "needs_background": "light"
     },
     "output_type": "display_data"
    },
    {
     "name": "stdout",
     "output_type": "stream",
     "text": [
      "\n"
     ]
    },
    {
     "data": {
      "image/png": "[encoded data removed]",
      "text/plain": [
       "<Figure size 432x288 with 1 Axes>"
      ]
     },
     "metadata": {
      "needs_background": "light"
     },
     "output_type": "display_data"
    },
    {
     "name": "stdout",
     "output_type": "stream",
     "text": [
      "\n"
     ]
    },
    {
     "data": {
      "image/png": "[encoded data removed]",
      "text/plain": [
       "<Figure size 432x288 with 1 Axes>"
      ]
     },
     "metadata": {
      "needs_background": "light"
     },
     "output_type": "display_data"
    },
    {
     "name": "stdout",
     "output_type": "stream",
     "text": [
      "\n"
     ]
    },
    {
     "data": {
      "image/png": "[encoded data removed]",
      "text/plain": [
       "<Figure size 432x288 with 1 Axes>"
      ]
     },
     "metadata": {
      "needs_background": "light"
     },
     "output_type": "display_data"
    },
    {
     "name": "stdout",
     "output_type": "stream",
     "text": [
      "\n"
     ]
    },
    {
     "data": {
      "image/png": "[encoded data removed]",
      "text/plain": [
       "<Figure size 432x288 with 1 Axes>"
      ]
     },
     "metadata": {
      "needs_background": "light"
     },
     "output_type": "display_data"
    },
    {
     "name": "stdout",
     "output_type": "stream",
     "text": [
      "\n"
     ]
    },
    {
     "data": {
      "image/png": "[encoded data removed]",
      "text/plain": [
       "<Figure size 432x288 with 1 Axes>"
      ]
     },
     "metadata": {
      "needs_background": "light"
     },
     "output_type": "display_data"
    },
    {
     "name": "stdout",
     "output_type": "stream",
     "text": [
      "\n"
     ]
    },
    {
     "data": {
      "image/png": "[encoded data removed]",
      "text/plain": [
       "<Figure size 432x288 with 1 Axes>"
      ]
     },
     "metadata": {
      "needs_background": "light"
     },
     "output_type": "display_data"
    },
    {
     "name": "stdout",
     "output_type": "stream",
     "text": [
      "\n"
     ]
    },
    {
     "data": {
      "image/png": "[encoded data removed]",
      "text/plain": [
       "<Figure size 432x288 with 1 Axes>"
      ]
     },
     "metadata": {
      "needs_background": "light"
     },
     "output_type": "display_data"
    },
    {
     "name": "stdout",
     "output_type": "stream",
     "text": [
      "\n"
     ]
    },
    {
     "data": {
      "image/png": "[encoded data removed]",
      "text/plain": [
       "<Figure size 432x288 with 1 Axes>"
      ]
     },
     "metadata": {
      "needs_background": "light"
     },
     "output_type": "display_data"
    },
    {
     "name": "stdout",
     "output_type": "stream",
     "text": [
      "\n"
     ]
    }
   ],
   "source": [
    "for param in range(kinematic_data_array.shape[1]):\n",
    "    plt.hist(kinematic_data_array[:, param], alpha=0.7, density=True, bins=100)\n",
    "    plt.title(f\"{df.columns[param+kin_start]}\")\n",
    "    plt.show()\n",
    "    print()"
   ]
  },
  {
   "cell_type": "markdown",
   "metadata": {},
   "source": [
    "Now let's plot all variables against each other."
   ]
  },
  {
   "cell_type": "code",
   "execution_count": null,
   "metadata": {},
   "outputs": [],
   "source": [
    "num_features = kin_end - kin_start\n",
    "\n",
    "fig, ax = plt.subplots(num_features - 1, num_features - 1, figsize=(5*num_features, 5*num_features))\n",
    "\n",
    "for param_1 in range(num_features):\n",
    "    for param_2 in range(param_1 + 1, num_features):\n",
    "            this_ax = ax[param_1, param_2- 1]\n",
    "            this_ax.scatter(background_array[:, param_1], background_array[:, param_2], alpha=0.5, label='background')\n",
    "            this_ax.scatter(signal_array[:, param_1], signal_array[:, param_2], alpha=0.5, label='signal')\n",
    "            # Get the correct labels\n",
    "            this_ax.set_xlabel(f\"{df.columns[param_1+3]}\", fontsize=14)\n",
    "            this_ax.set_ylabel(f\"{df.columns[param_2+3]}\", fontsize=14)\n",
    "            this_ax.xaxis.set_tick_params(labelsize=14)\n",
    "            this_ax.yaxis.set_tick_params(labelsize=14)\n",
    "            \n",
    "fig.suptitle(\"Exploratory data analysis\", fontsize=20)\n",
    "ax[0, 0].legend(fontsize=16)\n",
    "fig.tight_layout()\n",
    "fig.subplots_adjust(top=0.95)\n",
    "plt.savefig(\"eda.png\")"
   ]
  }
 ],
 "metadata": {
  "kernelspec": {
   "display_name": "Python 3",
   "language": "python",
   "name": "python3"
  },
  "language_info": {
   "codemirror_mode": {
    "name": "ipython",
    "version": 3
   },
   "file_extension": ".py",
   "mimetype": "text/x-python",
   "name": "python",
   "nbconvert_exporter": "python",
   "pygments_lexer": "ipython3",
   "version": "3.7.5"
  }
 },
 "nbformat": 4,
 "nbformat_minor": 4
}
